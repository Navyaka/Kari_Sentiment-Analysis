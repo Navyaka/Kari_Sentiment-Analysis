{
 "cells": [
  {
   "cell_type": "code",
   "execution_count": 1,
   "id": "c97e9c51",
   "metadata": {},
   "outputs": [
    {
     "name": "stdout",
     "output_type": "stream",
     "text": [
      "Requirement already satisfied: pandas in ./opt/anaconda3/lib/python3.9/site-packages (1.1.5)\n",
      "Requirement already satisfied: textblob in ./opt/anaconda3/lib/python3.9/site-packages (0.18.0.post0)\n",
      "Requirement already satisfied: openpyxl in ./opt/anaconda3/lib/python3.9/site-packages (3.0.10)\n",
      "Requirement already satisfied: numpy>=1.15.4 in ./opt/anaconda3/lib/python3.9/site-packages (from pandas) (1.23.5)\n",
      "Requirement already satisfied: pytz>=2017.2 in ./opt/anaconda3/lib/python3.9/site-packages (from pandas) (2023.3.post1)\n",
      "Requirement already satisfied: python-dateutil>=2.7.3 in ./opt/anaconda3/lib/python3.9/site-packages (from pandas) (2.8.2)\n",
      "Requirement already satisfied: nltk>=3.8 in ./opt/anaconda3/lib/python3.9/site-packages (from textblob) (3.8.1)\n",
      "Requirement already satisfied: et_xmlfile in ./opt/anaconda3/lib/python3.9/site-packages (from openpyxl) (1.1.0)\n",
      "Requirement already satisfied: joblib in ./opt/anaconda3/lib/python3.9/site-packages (from nltk>=3.8->textblob) (1.1.0)\n",
      "Requirement already satisfied: tqdm in ./opt/anaconda3/lib/python3.9/site-packages (from nltk>=3.8->textblob) (4.64.1)\n",
      "Requirement already satisfied: regex>=2021.8.3 in ./opt/anaconda3/lib/python3.9/site-packages (from nltk>=3.8->textblob) (2022.7.9)\n",
      "Requirement already satisfied: click in ./opt/anaconda3/lib/python3.9/site-packages (from nltk>=3.8->textblob) (8.0.4)\n",
      "Requirement already satisfied: six>=1.5 in ./opt/anaconda3/lib/python3.9/site-packages (from python-dateutil>=2.7.3->pandas) (1.16.0)\n",
      "Note: you may need to restart the kernel to use updated packages.\n"
     ]
    }
   ],
   "source": [
    "# pip install pandas textblob openpyxl"
   ]
  },
  {
   "cell_type": "code",
   "execution_count": 15,
   "id": "b622f116",
   "metadata": {},
   "outputs": [
    {
     "name": "stdout",
     "output_type": "stream",
     "text": [
      "Sentiment analysis completed and saved to /Users/navyakakandula/Downloads/sentiment_analysis.xlsx\n"
     ]
    }
   ],
   "source": [
    "import pandas as pd\n",
    "from textblob import TextBlob\n",
    "\n",
    "# Path to the input Excel file\n",
    "input_file = '/Users/navyakakandula/Downloads/Book_Reviews.xlsx'\n",
    "output_file = '/Users/navyakakandula/Downloads/sentiment_analysis.xlsx'\n",
    "\n",
    "# Read the Excel file using openpyxl engine\n",
    "excel_data = pd.ExcelFile(input_file, engine='openpyxl')\n",
    "\n",
    "# Perform sentiment analysis on each sheet\n",
    "with pd.ExcelWriter(output_file, engine='openpyxl') as writer:\n",
    "    for sheet_name in excel_data.sheet_names:\n",
    "        # Read the sheet into a DataFrame\n",
    "        df = pd.read_excel(input_file, sheet_name=sheet_name, engine='openpyxl')\n",
    "\n",
    "        # Assuming the comments are in a column named 'Reviews'\n",
    "        # If your column name is different, change it accordingly\n",
    "\n",
    "        # Ensure all entries in the 'Reviews' column are strings\n",
    "        df['Reviews'] = df['Reviews'].astype(str)\n",
    "\n",
    "        # Perform sentiment analysis\n",
    "        df['Polarity'] = df['Reviews'].apply(lambda x: TextBlob(x).sentiment.polarity)\n",
    "        df['Subjectivity'] = df['Reviews'].apply(lambda x: TextBlob(x).sentiment.subjectivity)\n",
    "\n",
    "        # Save the updated DataFrame to a new sheet in the output Excel file\n",
    "        df.to_excel(writer, sheet_name=sheet_name, index=False)\n",
    "\n",
    "print(f\"Sentiment analysis completed and saved to {output_file}\")"
   ]
  },
  {
   "cell_type": "code",
   "execution_count": null,
   "id": "3a542b91",
   "metadata": {},
   "outputs": [],
   "source": []
  }
 ],
 "metadata": {
  "kernelspec": {
   "display_name": "Python 3 (ipykernel)",
   "language": "python",
   "name": "python3"
  },
  "language_info": {
   "codemirror_mode": {
    "name": "ipython",
    "version": 3
   },
   "file_extension": ".py",
   "mimetype": "text/x-python",
   "name": "python",
   "nbconvert_exporter": "python",
   "pygments_lexer": "ipython3",
   "version": "3.9.13"
  }
 },
 "nbformat": 4,
 "nbformat_minor": 5
}
